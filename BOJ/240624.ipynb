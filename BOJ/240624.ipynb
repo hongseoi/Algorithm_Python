{
 "cells": [
  {
   "cell_type": "markdown",
   "metadata": {},
   "source": [
    "## 30802\n",
    "\n",
    "### 문제\n",
    "2024년 2월 3일 개최 예정인 온사이트 그랜드 아레나에서는 참가자들에게 티셔츠 한 장과 펜 한 자루가 포함된 웰컴 키트를 나눠줄 예정입니다. 키트를 제작하는 업체는 다음과 같은 조건으로만 주문이 가능합니다.\n",
    "\n",
    "티셔츠는 S, M, L, XL, XXL, 그리고 XXXL의 6가지 사이즈가 있습니다. 티셔츠는 같은 사이즈의 \n",
    "$T$장 묶음으로만 주문할 수 있습니다.\n",
    "펜은 한 종류로, \n",
    "$P$자루씩 묶음으로 주문하거나 한 자루씩 주문할 수 있습니다.\n",
    "총 \n",
    "$N$명의 참가자 중 S, M, L, XL, XXL, XXXL 사이즈의 티셔츠를 신청한 사람은 각각 \n",
    "$S, M, L, XL, XXL, XXXL$명입니다. 티셔츠는 남아도 되지만 부족해서는 안 되고 신청한 사이즈대로 나눠주어야 합니다. 펜은 남거나 부족해서는 안 되고 정확히 참가자 수만큼 준비되어야 합니다.\n",
    "\n",
    "티셔츠를 \n",
    "$T$장씩 최소 몇 묶음 주문해야 하는지, 그리고 펜을 \n",
    "$P$자루씩 최대 몇 묶음 주문할 수 있고, 그 때 펜을 한 자루씩 몇 개 주문하는지 구하세요.\n",
    "\n",
    "### 입력\n",
    "첫 줄에 참가자의 수 \n",
    "$N$이 주어집니다. \n",
    "$(1 \\le N \\le 10^9)$ \n",
    "\n",
    "둘째 줄에 티셔츠 사이즈별 신청자의 수 \n",
    "$S, M, L, XL, XXL, XXXL$이 공백으로 구분되어 주어집니다. \n",
    "$(0 \\le S, M, L, XL, XXL, XXXL \\le N;$ \n",
    "$S + M + L + XL + XXL + XXXL = N)$ \n",
    "\n",
    "셋째 줄에 정수 티셔츠와 펜의 묶음 수를 의미하는 정수 \n",
    "$T$와 \n",
    "$P$가 공백으로 구분되어 주어집니다. \n",
    "$(2 \\le T, P \\le 10^9)$ \n",
    "\n",
    "### 출력\n",
    "첫 줄에 티셔츠를 \n",
    "$T$장씩 최소 몇 묶음 주문해야 하는지 출력하세요.\n",
    "\n",
    "다음 줄에 펜을 \n",
    "$P$자루씩 최대 몇 묶음 주문할 수 있는지와, 그 때 펜을 한 자루씩 몇 개 주문하는지 구하세요."
   ]
  },
  {
   "cell_type": "code",
   "execution_count": 3,
   "metadata": {},
   "outputs": [
    {
     "name": "stdout",
     "output_type": "stream",
     "text": [
      "['s', 's']\n"
     ]
    }
   ],
   "source": [
    "N = int(input()) # 참가자 수\n",
    "S, M, L, XL, XXL, XXXL = map(int, input().split()) # 티셔츠 사이즈별 신청자 수\n",
    "T, P = map(int, input().split()) # 정수 티셔츠와 펜의 묶음 내 개수\n",
    "\n",
    "# 티셔츠 묶음 수\n",
    "total_shirts = S + M + L + XXL + XXXL\n",
    "tshirt_bundles = (S + T - 1) // T + (M + T - 1) // T + (L + T - 1) // T + (XL + T - 1) // T + (XXL + T - 1) // T + (XXXL + T - 1) // T #올림계산\n",
    "\n",
    "# 펜 주문 수\n",
    "quo = N%P\n",
    "remain = N//P\n",
    "\n",
    "print(tshirt_bundles)\n",
    "print(quo, remain)\n",
    "\n"
   ]
  },
  {
   "cell_type": "code",
   "execution_count": null,
   "metadata": {},
   "outputs": [],
   "source": []
  }
 ],
 "metadata": {
  "kernelspec": {
   "display_name": "pytorch_tutorial",
   "language": "python",
   "name": "python3"
  },
  "language_info": {
   "codemirror_mode": {
    "name": "ipython",
    "version": 3
   },
   "file_extension": ".py",
   "mimetype": "text/x-python",
   "name": "python",
   "nbconvert_exporter": "python",
   "pygments_lexer": "ipython3",
   "version": "3.10.12"
  }
 },
 "nbformat": 4,
 "nbformat_minor": 2
}
