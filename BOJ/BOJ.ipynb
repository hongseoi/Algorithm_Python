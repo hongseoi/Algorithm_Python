{
 "cells": [
  {
   "cell_type": "code",
   "execution_count": 5,
   "metadata": {},
   "outputs": [
    {
     "name": "stdout",
     "output_type": "stream",
     "text": [
      "2\n"
     ]
    }
   ],
   "source": [
    "# 10828\n",
    "\n",
    "class Stack:\n",
    "    \"\"\"\n",
    "    - items: 스택\n",
    "    - item: 스택 요소\n",
    "    \"\"\"\n",
    "    def __init__(self):\n",
    "        self.items = []\n",
    "\n",
    "    def push(self, item): \n",
    "        #정수 x를 stack에 넣는다\n",
    "        self.items.append(item)\n",
    "\n",
    "    def pop(self):\n",
    "        # 가장 위의 정수를 빼고 출력한다. 스택 내 수가 없으면 -1을 출력한다\n",
    "        if len(self.items)==0:\n",
    "            return -1\n",
    "        else:\n",
    "            self.items.pop()\n",
    "\n",
    "    def size(self):\n",
    "        # 스택 내 정수의 개수 출력\n",
    "        return len(self.items)\n",
    "    \n",
    "    def empty(self):\n",
    "        if self.size() == 0:\n",
    "            return 1\n",
    "        else:\n",
    "            return 0\n",
    "        \n",
    "    def top(self):\n",
    "        # 스택의 가장 위에 있는 정수 출력. 없으면 -1 출력\n",
    "        if self.empty():\n",
    "            return -1\n",
    "        else:\n",
    "            return self.items[-1]\n",
    "        \n",
    "n = int(input())\n",
    "stack = Stack()\n",
    "\n",
    "# 명령처리\n",
    "for _ in range(n):\n",
    "    command = input().split()\n",
    "\n",
    "    if command[0] == 'push':\n",
    "        stack.push(int(command[1]))\n",
    "\n",
    "    elif command[0] == 'pop':\n",
    "        print(stack.pop())\n",
    "\n",
    "    elif command[0] == 'size':\n",
    "        print(stack.size())\n",
    "\n",
    "    elif command[0] == 'empty':\n",
    "        print(stack.empty())\n",
    "    \n",
    "    elif command[0] == 'top':\n",
    "        print(stack.top())\n",
    "\n"
   ]
  },
  {
   "cell_type": "code",
   "execution_count": null,
   "metadata": {},
   "outputs": [],
   "source": []
  },
  {
   "cell_type": "code",
   "execution_count": 1,
   "metadata": {},
   "outputs": [
    {
     "data": {
      "text/plain": [
       "tensor([[1, 1, 0],\n",
       "        [1, 1, 1]])"
      ]
     },
     "execution_count": 1,
     "metadata": {},
     "output_type": "execute_result"
    }
   ],
   "source": [
    "import torch\n",
    "\n",
    "attention_mask = torch.tensor([\n",
    "    [1, 1, 0],  # 첫 번째 배치: 두 번째 토큰은 패딩\n",
    "    [1, 1, 1],  # 두 번째 배치: 모든 토큰이 유효\n",
    "])\n",
    "\n",
    "attention_mask"
   ]
  },
  {
   "cell_type": "code",
   "execution_count": 2,
   "metadata": {},
   "outputs": [
    {
     "ename": "IndexError",
     "evalue": "too many indices for tensor of dimension 2",
     "output_type": "error",
     "traceback": [
      "\u001b[1;31m---------------------------------------------------------------------------\u001b[0m",
      "\u001b[1;31mIndexError\u001b[0m                                Traceback (most recent call last)",
      "Cell \u001b[1;32mIn[2], line 1\u001b[0m\n\u001b[1;32m----> 1\u001b[0m \u001b[43mattention_mask\u001b[49m\u001b[43m[\u001b[49m\u001b[43m:\u001b[49m\u001b[43m,\u001b[49m\u001b[38;5;28;43;01mNone\u001b[39;49;00m\u001b[43m,\u001b[49m\u001b[43m \u001b[49m\u001b[43m:\u001b[49m\u001b[43m,\u001b[49m\u001b[43m:\u001b[49m\u001b[43m]\u001b[49m\n",
      "\u001b[1;31mIndexError\u001b[0m: too many indices for tensor of dimension 2"
     ]
    }
   ],
   "source": [
    "attention_mask[:,None, :,:]\n"
   ]
  },
  {
   "cell_type": "code",
   "execution_count": 3,
   "metadata": {},
   "outputs": [
    {
     "ename": "IndexError",
     "evalue": "too many indices for tensor of dimension 2",
     "output_type": "error",
     "traceback": [
      "\u001b[1;31m---------------------------------------------------------------------------\u001b[0m",
      "\u001b[1;31mIndexError\u001b[0m                                Traceback (most recent call last)",
      "Cell \u001b[1;32mIn[3], line 10\u001b[0m\n\u001b[0;32m      4\u001b[0m attention_mask \u001b[38;5;241m=\u001b[39m torch\u001b[38;5;241m.\u001b[39mtensor([\n\u001b[0;32m      5\u001b[0m     [\u001b[38;5;241m1\u001b[39m, \u001b[38;5;241m1\u001b[39m, \u001b[38;5;241m0\u001b[39m],  \u001b[38;5;66;03m# 첫 번째 배치: 세 번째 토큰은 패딩\u001b[39;00m\n\u001b[0;32m      6\u001b[0m     [\u001b[38;5;241m1\u001b[39m, \u001b[38;5;241m1\u001b[39m, \u001b[38;5;241m1\u001b[39m]   \u001b[38;5;66;03m# 두 번째 배치: 모든 토큰이 유효\u001b[39;00m\n\u001b[0;32m      7\u001b[0m ])\n\u001b[0;32m      9\u001b[0m \u001b[38;5;66;03m# attention_mask를 확장하여 [batch_size, 1, seq_length, seq_length] 형태로 만듦\u001b[39;00m\n\u001b[1;32m---> 10\u001b[0m extended_attention_mask \u001b[38;5;241m=\u001b[39m \u001b[43mattention_mask\u001b[49m\u001b[43m[\u001b[49m\u001b[43m:\u001b[49m\u001b[43m,\u001b[49m\u001b[43m \u001b[49m\u001b[38;5;28;43;01mNone\u001b[39;49;00m\u001b[43m,\u001b[49m\u001b[43m \u001b[49m\u001b[43m:\u001b[49m\u001b[43m,\u001b[49m\u001b[43m \u001b[49m\u001b[43m:\u001b[49m\u001b[43m]\u001b[49m\n\u001b[0;32m     12\u001b[0m \u001b[38;5;66;03m# 확장된 마스크 출력\u001b[39;00m\n\u001b[0;32m     13\u001b[0m \u001b[38;5;28mprint\u001b[39m(extended_attention_mask)\n",
      "\u001b[1;31mIndexError\u001b[0m: too many indices for tensor of dimension 2"
     ]
    }
   ],
   "source": [
    "import torch\n",
    "\n",
    "# 2차원 attention_mask 정의\n",
    "attention_mask = torch.tensor([\n",
    "    [1, 1, 0],  # 첫 번째 배치: 세 번째 토큰은 패딩\n",
    "    [1, 1, 1]   # 두 번째 배치: 모든 토큰이 유효\n",
    "])\n",
    "\n",
    "# attention_mask를 확장하여 [batch_size, 1, seq_length, seq_length] 형태로 만듦\n",
    "extended_attention_mask = attention_mask[:, None, :, :]\n",
    "\n",
    "# 확장된 마스크 출력\n",
    "print(extended_attention_mask)\n"
   ]
  },
  {
   "cell_type": "code",
   "execution_count": 5,
   "metadata": {},
   "outputs": [
    {
     "name": "stdout",
     "output_type": "stream",
     "text": [
      "tensor([[[1, 1, 0]],\n",
      "\n",
      "        [[1, 1, 1]]])\n",
      "torch.Size([2, 1, 3])\n"
     ]
    }
   ],
   "source": [
    "import torch\n",
    "\n",
    "# 2차원 attention_mask 정의\n",
    "attention_mask = torch.tensor([\n",
    "    [1, 1, 0],  # 첫 번째 배치: 세 번째 토큰은 패딩\n",
    "    [1, 1, 1]   # 두 번째 배치: 모든 토큰이 유효\n",
    "])\n",
    "\n",
    "# attention_mask를 확장하여 [batch_size, 1, 1, seq_length] 형태로 만듦\n",
    "extended_attention_mask = attention_mask[:, None, :]\n",
    "\n",
    "# 확장된 마스크 출력\n",
    "print(extended_attention_mask)\n",
    "print(extended_attention_mask.shape)  # (2, 1, 1, 3)\n",
    "\n"
   ]
  },
  {
   "cell_type": "code",
   "execution_count": null,
   "metadata": {},
   "outputs": [],
   "source": []
  }
 ],
 "metadata": {
  "kernelspec": {
   "display_name": "Python 3",
   "language": "python",
   "name": "python3"
  },
  "language_info": {
   "codemirror_mode": {
    "name": "ipython",
    "version": 3
   },
   "file_extension": ".py",
   "mimetype": "text/x-python",
   "name": "python",
   "nbconvert_exporter": "python",
   "pygments_lexer": "ipython3",
   "version": "3.10.12"
  }
 },
 "nbformat": 4,
 "nbformat_minor": 2
}
