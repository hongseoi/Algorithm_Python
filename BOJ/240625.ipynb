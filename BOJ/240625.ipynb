{
 "cells": [
  {
   "cell_type": "markdown",
   "metadata": {},
   "source": [
    "## 11319\n",
    "Given a sentence in English, output the counts of consonants and vowels.\n",
    "\n",
    "Vowels are letters in [’A’,’E’,’I’,’O’,’U’,’a’,’e’,’i’,’o’,’u’].\n",
    "\n",
    "\n",
    "The test file starts with an integer S(1 ≤ S ≤ 100), the number of sentences.\n",
    "\n",
    "Then follow S lines, each containing a sentence - words of length 1 to 20 separated by spaces. Every sentence will contain at least one word and be comprised only of characters [a-z][A-Z] and spaces. No sentence will be longer than 1000 characters."
   ]
  },
  {
   "cell_type": "code",
   "execution_count": 10,
   "metadata": {},
   "outputs": [
    {
     "name": "stdout",
     "output_type": "stream",
     "text": [
      "12 6\n",
      "10 8\n",
      "11 5\n"
     ]
    }
   ],
   "source": [
    "# 세야하는 문자가 1개일땐 .count(), 여러개면 collections의 Counter 사용\n",
    "from collections import Counter\n",
    "\n",
    "vowels = ['A','E','I','O','U','a','e','i','o','u']\n",
    "\n",
    "N = int(input())\n",
    "\n",
    "for i in range(N):\n",
    "    sentence = list(input())\n",
    "    cleaned_sentence = [char for char in sentence if char != ' ']\n",
    "    counter = Counter(cleaned_sentence)\n",
    "    \n",
    "    count_vowels = []\n",
    "    count_vowels = sum(counter[vowel] for vowel in vowels)\n",
    "    \n",
    "    total_len = len(cleaned_sentence)\n",
    "    print(total_len - count_vowels, count_vowels)\n",
    "    "
   ]
  },
  {
   "cell_type": "code",
   "execution_count": 12,
   "metadata": {},
   "outputs": [
    {
     "name": "stdout",
     "output_type": "stream",
     "text": [
      "12 6\n",
      "10 8\n",
      "11 5\n"
     ]
    }
   ],
   "source": [
    "# 라이브러리 사용하지 않고 구현\n",
    "# 세야하는 문자가 1개일땐 .count(), 여러개면 collections의 Counter 사용\n",
    "\n",
    "vowels = ['A','E','I','O','U','a','e','i','o','u']\n",
    "\n",
    "N = int(input())\n",
    "\n",
    "for i in range(N):\n",
    "    sentence = list(input())\n",
    "    cleaned_sentence = [char for char in sentence if char != ' ']\n",
    "    \n",
    "    count = 0\n",
    "    \n",
    "    for i in cleaned_sentence:\n",
    "        if i in vowels:\n",
    "            count += 1    \n",
    "    \n",
    "    total_len = len(cleaned_sentence)\n",
    "    print(total_len - count, count)\n",
    "    "
   ]
  },
  {
   "cell_type": "code",
   "execution_count": null,
   "metadata": {},
   "outputs": [],
   "source": []
  }
 ],
 "metadata": {
  "kernelspec": {
   "display_name": "pytorch_tutorial",
   "language": "python",
   "name": "python3"
  },
  "language_info": {
   "codemirror_mode": {
    "name": "ipython",
    "version": 3
   },
   "file_extension": ".py",
   "mimetype": "text/x-python",
   "name": "python",
   "nbconvert_exporter": "python",
   "pygments_lexer": "ipython3",
   "version": "3.10.12"
  }
 },
 "nbformat": 4,
 "nbformat_minor": 2
}
