{
 "cells": [
  {
   "cell_type": "code",
   "execution_count": 5,
   "metadata": {},
   "outputs": [
    {
     "name": "stdout",
     "output_type": "stream",
     "text": [
      "2\n"
     ]
    }
   ],
   "source": [
    "# 10828\n",
    "\n",
    "class Stack:\n",
    "    \"\"\"\n",
    "    - items: 스택\n",
    "    - item: 스택 요소\n",
    "    \"\"\"\n",
    "    def __init__(self):\n",
    "        self.items = []\n",
    "\n",
    "    def push(self, item): \n",
    "        #정수 x를 stack에 넣는다\n",
    "        self.items.append(item)\n",
    "\n",
    "    def pop(self):\n",
    "        # 가장 위의 정수를 빼고 출력한다. 스택 내 수가 없으면 -1을 출력한다\n",
    "        if len(self.items)==0:\n",
    "            return -1\n",
    "        else:\n",
    "            self.items.pop()\n",
    "\n",
    "    def size(self):\n",
    "        # 스택 내 정수의 개수 출력\n",
    "        return len(self.items)\n",
    "    \n",
    "    def empty(self):\n",
    "        if self.size() == 0:\n",
    "            return 1\n",
    "        else:\n",
    "            return 0\n",
    "        \n",
    "    def top(self):\n",
    "        # 스택의 가장 위에 있는 정수 출력. 없으면 -1 출력\n",
    "        if self.empty():\n",
    "            return -1\n",
    "        else:\n",
    "            return self.items[-1]\n",
    "        \n",
    "n = int(input())\n",
    "stack = Stack()\n",
    "\n",
    "# 명령처리\n",
    "for _ in range(n):\n",
    "    command = input().split()\n",
    "\n",
    "    if command[0] == 'push':\n",
    "        stack.push(int(command[1]))\n",
    "\n",
    "    elif command[0] == 'pop':\n",
    "        print(stack.pop())\n",
    "\n",
    "    elif command[0] == 'size':\n",
    "        print(stack.size())\n",
    "\n",
    "    elif command[0] == 'empty':\n",
    "        print(stack.empty())\n",
    "    \n",
    "    elif command[0] == 'top':\n",
    "        print(stack.top())\n",
    "\n"
   ]
  },
  {
   "cell_type": "code",
   "execution_count": null,
   "metadata": {},
   "outputs": [],
   "source": []
  },
  {
   "cell_type": "code",
   "execution_count": null,
   "metadata": {},
   "outputs": [],
   "source": []
  }
 ],
 "metadata": {
  "kernelspec": {
   "display_name": "Python 3",
   "language": "python",
   "name": "python3"
  },
  "language_info": {
   "codemirror_mode": {
    "name": "ipython",
    "version": 3
   },
   "file_extension": ".py",
   "mimetype": "text/x-python",
   "name": "python",
   "nbconvert_exporter": "python",
   "pygments_lexer": "ipython3",
   "version": "3.11.4"
  }
 },
 "nbformat": 4,
 "nbformat_minor": 2
}
